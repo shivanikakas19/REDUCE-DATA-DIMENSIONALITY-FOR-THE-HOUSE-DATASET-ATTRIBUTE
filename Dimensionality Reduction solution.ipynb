{
 "cells": [
  {
   "cell_type": "code",
   "execution_count": 61,
   "metadata": {},
   "outputs": [],
   "source": [
    "import pandas as pd\n",
    "import numpy as np\n",
    "import seaborn as sns\n",
    "import matplotlib.pyplot as plt\n",
    "from scipy.stats import norm\n",
    "from sklearn.preprocessing import StandardScaler\n",
    "from scipy import stats\n",
    "import warnings\n",
    "warnings.filterwarnings('ignore')\n",
    "%matplotlib inline"
   ]
  },
  {
   "cell_type": "code",
   "execution_count": 62,
   "metadata": {},
   "outputs": [
    {
     "data": {
      "text/html": [
       "<div>\n",
       "<style scoped>\n",
       "    .dataframe tbody tr th:only-of-type {\n",
       "        vertical-align: middle;\n",
       "    }\n",
       "\n",
       "    .dataframe tbody tr th {\n",
       "        vertical-align: top;\n",
       "    }\n",
       "\n",
       "    .dataframe thead th {\n",
       "        text-align: right;\n",
       "    }\n",
       "</style>\n",
       "<table border=\"1\" class=\"dataframe\">\n",
       "  <thead>\n",
       "    <tr style=\"text-align: right;\">\n",
       "      <th></th>\n",
       "      <th>Id</th>\n",
       "      <th>MSSubClass</th>\n",
       "      <th>MSZoning</th>\n",
       "      <th>LotFrontage</th>\n",
       "      <th>LotArea</th>\n",
       "      <th>Street</th>\n",
       "      <th>Alley</th>\n",
       "      <th>LotShape</th>\n",
       "      <th>LandContour</th>\n",
       "      <th>Utilities</th>\n",
       "      <th>...</th>\n",
       "      <th>PoolArea</th>\n",
       "      <th>PoolQC</th>\n",
       "      <th>Fence</th>\n",
       "      <th>MiscFeature</th>\n",
       "      <th>MiscVal</th>\n",
       "      <th>MoSold</th>\n",
       "      <th>YrSold</th>\n",
       "      <th>SaleType</th>\n",
       "      <th>SaleCondition</th>\n",
       "      <th>SalePrice</th>\n",
       "    </tr>\n",
       "  </thead>\n",
       "  <tbody>\n",
       "    <tr>\n",
       "      <th>0</th>\n",
       "      <td>1</td>\n",
       "      <td>60</td>\n",
       "      <td>RL</td>\n",
       "      <td>65.0</td>\n",
       "      <td>8450</td>\n",
       "      <td>Pave</td>\n",
       "      <td>NaN</td>\n",
       "      <td>Reg</td>\n",
       "      <td>Lvl</td>\n",
       "      <td>AllPub</td>\n",
       "      <td>...</td>\n",
       "      <td>0</td>\n",
       "      <td>NaN</td>\n",
       "      <td>NaN</td>\n",
       "      <td>NaN</td>\n",
       "      <td>0</td>\n",
       "      <td>2</td>\n",
       "      <td>2008</td>\n",
       "      <td>WD</td>\n",
       "      <td>Normal</td>\n",
       "      <td>208500</td>\n",
       "    </tr>\n",
       "    <tr>\n",
       "      <th>1</th>\n",
       "      <td>2</td>\n",
       "      <td>20</td>\n",
       "      <td>RL</td>\n",
       "      <td>80.0</td>\n",
       "      <td>9600</td>\n",
       "      <td>Pave</td>\n",
       "      <td>NaN</td>\n",
       "      <td>Reg</td>\n",
       "      <td>Lvl</td>\n",
       "      <td>AllPub</td>\n",
       "      <td>...</td>\n",
       "      <td>0</td>\n",
       "      <td>NaN</td>\n",
       "      <td>NaN</td>\n",
       "      <td>NaN</td>\n",
       "      <td>0</td>\n",
       "      <td>5</td>\n",
       "      <td>2007</td>\n",
       "      <td>WD</td>\n",
       "      <td>Normal</td>\n",
       "      <td>181500</td>\n",
       "    </tr>\n",
       "    <tr>\n",
       "      <th>2</th>\n",
       "      <td>3</td>\n",
       "      <td>60</td>\n",
       "      <td>RL</td>\n",
       "      <td>68.0</td>\n",
       "      <td>11250</td>\n",
       "      <td>Pave</td>\n",
       "      <td>NaN</td>\n",
       "      <td>IR1</td>\n",
       "      <td>Lvl</td>\n",
       "      <td>AllPub</td>\n",
       "      <td>...</td>\n",
       "      <td>0</td>\n",
       "      <td>NaN</td>\n",
       "      <td>NaN</td>\n",
       "      <td>NaN</td>\n",
       "      <td>0</td>\n",
       "      <td>9</td>\n",
       "      <td>2008</td>\n",
       "      <td>WD</td>\n",
       "      <td>Normal</td>\n",
       "      <td>223500</td>\n",
       "    </tr>\n",
       "    <tr>\n",
       "      <th>3</th>\n",
       "      <td>4</td>\n",
       "      <td>70</td>\n",
       "      <td>RL</td>\n",
       "      <td>60.0</td>\n",
       "      <td>9550</td>\n",
       "      <td>Pave</td>\n",
       "      <td>NaN</td>\n",
       "      <td>IR1</td>\n",
       "      <td>Lvl</td>\n",
       "      <td>AllPub</td>\n",
       "      <td>...</td>\n",
       "      <td>0</td>\n",
       "      <td>NaN</td>\n",
       "      <td>NaN</td>\n",
       "      <td>NaN</td>\n",
       "      <td>0</td>\n",
       "      <td>2</td>\n",
       "      <td>2006</td>\n",
       "      <td>WD</td>\n",
       "      <td>Abnorml</td>\n",
       "      <td>140000</td>\n",
       "    </tr>\n",
       "    <tr>\n",
       "      <th>4</th>\n",
       "      <td>5</td>\n",
       "      <td>60</td>\n",
       "      <td>RL</td>\n",
       "      <td>84.0</td>\n",
       "      <td>14260</td>\n",
       "      <td>Pave</td>\n",
       "      <td>NaN</td>\n",
       "      <td>IR1</td>\n",
       "      <td>Lvl</td>\n",
       "      <td>AllPub</td>\n",
       "      <td>...</td>\n",
       "      <td>0</td>\n",
       "      <td>NaN</td>\n",
       "      <td>NaN</td>\n",
       "      <td>NaN</td>\n",
       "      <td>0</td>\n",
       "      <td>12</td>\n",
       "      <td>2008</td>\n",
       "      <td>WD</td>\n",
       "      <td>Normal</td>\n",
       "      <td>250000</td>\n",
       "    </tr>\n",
       "  </tbody>\n",
       "</table>\n",
       "<p>5 rows × 81 columns</p>\n",
       "</div>"
      ],
      "text/plain": [
       "   Id  MSSubClass MSZoning  LotFrontage  LotArea Street Alley LotShape  \\\n",
       "0   1          60       RL         65.0     8450   Pave   NaN      Reg   \n",
       "1   2          20       RL         80.0     9600   Pave   NaN      Reg   \n",
       "2   3          60       RL         68.0    11250   Pave   NaN      IR1   \n",
       "3   4          70       RL         60.0     9550   Pave   NaN      IR1   \n",
       "4   5          60       RL         84.0    14260   Pave   NaN      IR1   \n",
       "\n",
       "  LandContour Utilities  ... PoolArea PoolQC Fence MiscFeature MiscVal MoSold  \\\n",
       "0         Lvl    AllPub  ...        0    NaN   NaN         NaN       0      2   \n",
       "1         Lvl    AllPub  ...        0    NaN   NaN         NaN       0      5   \n",
       "2         Lvl    AllPub  ...        0    NaN   NaN         NaN       0      9   \n",
       "3         Lvl    AllPub  ...        0    NaN   NaN         NaN       0      2   \n",
       "4         Lvl    AllPub  ...        0    NaN   NaN         NaN       0     12   \n",
       "\n",
       "  YrSold  SaleType  SaleCondition  SalePrice  \n",
       "0   2008        WD         Normal     208500  \n",
       "1   2007        WD         Normal     181500  \n",
       "2   2008        WD         Normal     223500  \n",
       "3   2006        WD        Abnorml     140000  \n",
       "4   2008        WD         Normal     250000  \n",
       "\n",
       "[5 rows x 81 columns]"
      ]
     },
     "execution_count": 62,
     "metadata": {},
     "output_type": "execute_result"
    }
   ],
   "source": [
    "df = pd.read_csv(\"house_price.csv\")\n",
    "df.head()"
   ]
  },
  {
   "cell_type": "code",
   "execution_count": 63,
   "metadata": {},
   "outputs": [
    {
     "data": {
      "text/plain": [
       "Index(['Id', 'MSSubClass', 'MSZoning', 'LotFrontage', 'LotArea', 'Street',\n",
       "       'Alley', 'LotShape', 'LandContour', 'Utilities', 'LotConfig',\n",
       "       'LandSlope', 'Neighborhood', 'Condition1', 'Condition2', 'BldgType',\n",
       "       'HouseStyle', 'OverallQual', 'OverallCond', 'YearBuilt', 'YearRemodAdd',\n",
       "       'RoofStyle', 'RoofMatl', 'Exterior1st', 'Exterior2nd', 'MasVnrType',\n",
       "       'MasVnrArea', 'ExterQual', 'ExterCond', 'Foundation', 'BsmtQual',\n",
       "       'BsmtCond', 'BsmtExposure', 'BsmtFinType1', 'BsmtFinSF1',\n",
       "       'BsmtFinType2', 'BsmtFinSF2', 'BsmtUnfSF', 'TotalBsmtSF', 'Heating',\n",
       "       'HeatingQC', 'CentralAir', 'Electrical', '1stFlrSF', '2ndFlrSF',\n",
       "       'LowQualFinSF', 'GrLivArea', 'BsmtFullBath', 'BsmtHalfBath', 'FullBath',\n",
       "       'HalfBath', 'BedroomAbvGr', 'KitchenAbvGr', 'KitchenQual',\n",
       "       'TotRmsAbvGrd', 'Functional', 'Fireplaces', 'FireplaceQu', 'GarageType',\n",
       "       'GarageYrBlt', 'GarageFinish', 'GarageCars', 'GarageArea', 'GarageQual',\n",
       "       'GarageCond', 'PavedDrive', 'WoodDeckSF', 'OpenPorchSF',\n",
       "       'EnclosedPorch', '3SsnPorch', 'ScreenPorch', 'PoolArea', 'PoolQC',\n",
       "       'Fence', 'MiscFeature', 'MiscVal', 'MoSold', 'YrSold', 'SaleType',\n",
       "       'SaleCondition', 'SalePrice'],\n",
       "      dtype='object')"
      ]
     },
     "execution_count": 63,
     "metadata": {},
     "output_type": "execute_result"
    }
   ],
   "source": [
    "df.columns"
   ]
  },
  {
   "cell_type": "code",
   "execution_count": 64,
   "metadata": {},
   "outputs": [
    {
     "data": {
      "text/plain": [
       "(1460, 81)"
      ]
     },
     "execution_count": 64,
     "metadata": {},
     "output_type": "execute_result"
    }
   ],
   "source": [
    "df.shape"
   ]
  },
  {
   "cell_type": "code",
   "execution_count": 65,
   "metadata": {},
   "outputs": [
    {
     "data": {
      "image/png": "[encoded data removed]",
      "text/plain": [
       "<Figure size 1440x864 with 2 Axes>"
      ]
     },
     "metadata": {
      "needs_background": "light"
     },
     "output_type": "display_data"
    }
   ],
   "source": [
    "#filter numeric column only\n",
    "data_num = df[numerical_var]\n",
    "\n",
    "#calculating correlation among numeric variable\n",
    "corr_matrix = data_num.corr()\n",
    "\n",
    "#filter correlation values above 0.5\n",
    "filter_corr = corr_matrix[corr_matrix > 0.5]\n",
    "\n",
    "#plot correlation matrix\n",
    "plt.figure(figsize=(20,12))\n",
    "sns.heatmap(filter_corr,\n",
    "            cmap=\"coolwarm\",\n",
    "            annot=True);"
   ]
  },
  {
   "cell_type": "code",
   "execution_count": 9,
   "metadata": {},
   "outputs": [
    {
     "data": {
      "text/plain": [
       "PoolQC           1453\n",
       "MiscFeature      1406\n",
       "Alley            1369\n",
       "Fence            1179\n",
       "FireplaceQu       690\n",
       "LotFrontage       259\n",
       "GarageCond         81\n",
       "GarageType         81\n",
       "GarageYrBlt        81\n",
       "GarageFinish       81\n",
       "GarageQual         81\n",
       "BsmtExposure       38\n",
       "BsmtFinType2       38\n",
       "BsmtFinType1       37\n",
       "BsmtCond           37\n",
       "BsmtQual           37\n",
       "MasVnrArea          8\n",
       "MasVnrType          8\n",
       "Electrical          1\n",
       "Utilities           0\n",
       "YearRemodAdd        0\n",
       "MSSubClass          0\n",
       "Foundation          0\n",
       "ExterCond           0\n",
       "ExterQual           0\n",
       "Exterior2nd         0\n",
       "Exterior1st         0\n",
       "RoofMatl            0\n",
       "RoofStyle           0\n",
       "YearBuilt           0\n",
       "LotConfig           0\n",
       "OverallCond         0\n",
       "OverallQual         0\n",
       "HouseStyle          0\n",
       "BldgType            0\n",
       "Condition2          0\n",
       "BsmtFinSF1          0\n",
       "MSZoning            0\n",
       "LotArea             0\n",
       "Street              0\n",
       "Condition1          0\n",
       "Neighborhood        0\n",
       "LotShape            0\n",
       "LandContour         0\n",
       "LandSlope           0\n",
       "SalePrice           0\n",
       "HeatingQC           0\n",
       "BsmtFinSF2          0\n",
       "EnclosedPorch       0\n",
       "Fireplaces          0\n",
       "GarageCars          0\n",
       "GarageArea          0\n",
       "PavedDrive          0\n",
       "WoodDeckSF          0\n",
       "OpenPorchSF         0\n",
       "3SsnPorch           0\n",
       "BsmtUnfSF           0\n",
       "ScreenPorch         0\n",
       "PoolArea            0\n",
       "MiscVal             0\n",
       "dtype: int64"
      ]
     },
     "execution_count": 9,
     "metadata": {},
     "output_type": "execute_result"
    }
   ],
   "source": [
    "df.isna().sum().sort_values(ascending=False).head(60)"
   ]
  },
  {
   "cell_type": "code",
   "execution_count": 10,
   "metadata": {},
   "outputs": [],
   "source": [
    "#PoolQc\n",
    "df[\"PoolQC\"] = df[\"PoolQC\"].fillna(\"None\")"
   ]
  },
  {
   "cell_type": "code",
   "execution_count": 11,
   "metadata": {},
   "outputs": [],
   "source": [
    "#MiscFeature\n",
    "df[\"MiscFeature\"] = df[\"MiscFeature\"].fillna(\"None\")"
   ]
  },
  {
   "cell_type": "code",
   "execution_count": 12,
   "metadata": {},
   "outputs": [],
   "source": [
    "#Alley\n",
    "df[\"Alley\"] = df[\"Alley\"].fillna(\"None\")"
   ]
  },
  {
   "cell_type": "code",
   "execution_count": 13,
   "metadata": {},
   "outputs": [],
   "source": [
    "#Fence\n",
    "df[\"fence\"] = df[\"Fence\"].fillna(\"None\")"
   ]
  },
  {
   "cell_type": "code",
   "execution_count": 14,
   "metadata": {},
   "outputs": [],
   "source": [
    "#FireplaceQu\n",
    "df[\"FireplaceQu\"] = df[\"FireplaceQu\"].fillna(\"None\")"
   ]
  },
  {
   "cell_type": "code",
   "execution_count": 15,
   "metadata": {},
   "outputs": [],
   "source": [
    "#LotFrontage\n",
    "df[\"LotFrontage\"] = df.groupby(\"Neighborhood\")[\"LotFrontage\"].transform(lambda x: x.fillna(x.median()))"
   ]
  },
  {
   "cell_type": "code",
   "execution_count": 16,
   "metadata": {},
   "outputs": [],
   "source": [
    "#GarageType, GarageFinish, GarageQual and GarageCond : Replacing missing data with None\n",
    "for i in (\"GarageType\", \"GarageFinish\", \"GarageQual\", \"GarageCond\"):\n",
    "    df[i] = df[i].fillna(\"None\")"
   ]
  },
  {
   "cell_type": "code",
   "execution_count": 17,
   "metadata": {},
   "outputs": [],
   "source": [
    "#GarageYrBlt, GarageArea and GarageCars : Replacing missing data with 0 (Since No garage = No cars in such garage)\n",
    "for i in (\"GarageYrBlt\", \"GarageArea\", \"GarageCars\"):\n",
    "    df[i] = df[i].fillna(0)"
   ]
  },
  {
   "cell_type": "code",
   "execution_count": 18,
   "metadata": {},
   "outputs": [],
   "source": [
    "#BsmtQual, BsmtCond, BsmtExposure, BsmtFinType1 and BsmtFinType2 : For all these categorical basement-related features, NaN means that there is no basement.\n",
    "for i in (\"BsmtQual\", \"BsmtCond\", \"BsmtExposure\", \"BsmtFinType1\", \"BsmtFinType2\"):\n",
    "    df[i] = df[i].fillna(\"None\")"
   ]
  },
  {
   "cell_type": "code",
   "execution_count": 19,
   "metadata": {},
   "outputs": [],
   "source": [
    "#MasVnrArea and MasVnType : NA most likely means no masonry veneer for these houses. We can fill 0 for the area and None for the type.\n",
    "df[\"MasVnrType\"] = df[\"MasVnrType\"].fillna(\"None\")\n",
    "df[\"MasVnrArea\"] = df[\"MasVnrType\"].fillna(0)"
   ]
  },
  {
   "cell_type": "code",
   "execution_count": 20,
   "metadata": {},
   "outputs": [],
   "source": [
    "#MSZoning(The general zoning classification) : \"RL\" is by far the most common value. So we can fill in missing values with \"RL\"\n",
    "df[\"MSZoning\"] = df[\"MSZoning\"].fillna(df[\"MSZoning\"].mode()[0])"
   ]
  },
  {
   "cell_type": "code",
   "execution_count": 21,
   "metadata": {},
   "outputs": [],
   "source": [
    "df[\"Functional\"] = df[\"Functional\"].fillna(\"Typ\")"
   ]
  },
  {
   "cell_type": "code",
   "execution_count": 22,
   "metadata": {},
   "outputs": [],
   "source": [
    "df[\"Electrical\"] = df[\"Electrical\"].fillna(df[\"Electrical\"].mode()[0])"
   ]
  },
  {
   "cell_type": "code",
   "execution_count": 23,
   "metadata": {},
   "outputs": [],
   "source": [
    "df[\"KitchenQual\"] = df[\"KitchenQual\"].fillna(df[\"KitchenQual\"].mode()[0])"
   ]
  },
  {
   "cell_type": "code",
   "execution_count": 24,
   "metadata": {},
   "outputs": [],
   "source": [
    "df[\"Exterior1st\"] = df[\"Exterior1st\"].fillna(df[\"Exterior1st\"].mode()[0])\n",
    "df[\"Exterior2nd\"] = df[\"Exterior2nd\"].fillna(df[\"Exterior2nd\"].mode()[0])"
   ]
  },
  {
   "cell_type": "code",
   "execution_count": 25,
   "metadata": {},
   "outputs": [],
   "source": [
    "df[\"SaleType\"] = df[\"SaleType\"].fillna(df[\"SaleType\"].mode()[0])"
   ]
  },
  {
   "cell_type": "code",
   "execution_count": 26,
   "metadata": {},
   "outputs": [],
   "source": [
    "df[\"MSSubClass\"] = df[\"MSSubClass\"].fillna(\"None\")"
   ]
  },
  {
   "cell_type": "code",
   "execution_count": 27,
   "metadata": {},
   "outputs": [],
   "source": [
    "categorical_var = df.dtypes[df.dtypes == \"object\"]"
   ]
  },
  {
   "cell_type": "code",
   "execution_count": 28,
   "metadata": {},
   "outputs": [
    {
     "data": {
      "text/plain": [
       "dtype('int64')"
      ]
     },
     "execution_count": 28,
     "metadata": {},
     "output_type": "execute_result"
    }
   ],
   "source": [
    "#Transforming Some numerical variables that are really categorical\n",
    "df[\"OverallCond\"].dtype"
   ]
  },
  {
   "cell_type": "code",
   "execution_count": 29,
   "metadata": {},
   "outputs": [],
   "source": [
    "##Changing OverallCond into a categorical variable\n",
    "df[\"OverallCond\"] = df[\"OverallCond\"].astype(str)\n",
    "\n",
    "##MSSubClass = The building class\n",
    "df[\"MSSubClass\"] = df[\"MSSubClass\"].apply(str)\n",
    "\n",
    "#Year and month sold are transformed into categorical features.\n",
    "df[\"YrSold\"] = df[\"YrSold\"].astype(str)\n",
    "df[\"MoSold\"] = df[\"MoSold\"].astype(str)"
   ]
  },
  {
   "cell_type": "code",
   "execution_count": 31,
   "metadata": {},
   "outputs": [],
   "source": [
    "df.drop(['Utilities'],axis=1,inplace = True)"
   ]
  },
  {
   "cell_type": "code",
   "execution_count": 59,
   "metadata": {},
   "outputs": [],
   "source": [
    "# Plot bar plot for each categorical feature\n",
    "\n",
    "for feature in df.dtypes[df.dtypes == 'object'].index:\n",
    "    sns.countplot(y=feature, data=df)\n",
    "    plt.show()"
   ]
  },
  {
   "cell_type": "code",
   "execution_count": 32,
   "metadata": {},
   "outputs": [],
   "source": [
    "from sklearn.preprocessing import LabelEncoder\n",
    "cols = ('FireplaceQu', 'BsmtQual', 'BsmtCond', 'GarageQual', 'GarageCond', \n",
    "        'ExterQual', 'ExterCond','HeatingQC', 'PoolQC', 'KitchenQual', 'BsmtFinType1', \n",
    "        'BsmtFinType2', 'Functional', 'Fence', 'BsmtExposure', 'GarageFinish', 'LandSlope',\n",
    "        'LotShape', 'PavedDrive', 'Street', 'Alley', 'CentralAir', 'MSSubClass', 'OverallCond', \n",
    "        'YrSold', 'MoSold')"
   ]
  },
  {
   "cell_type": "code",
   "execution_count": 33,
   "metadata": {},
   "outputs": [],
   "source": [
    "#Process columns, apply LabelEncoder to categorical features\n",
    "for c in cols:\n",
    "    label_ec = LabelEncoder()\n",
    "    label_ec.fit(list(df[c].values))\n",
    "    df[c] = label_ec.transform(list(df[c].values))"
   ]
  },
  {
   "cell_type": "code",
   "execution_count": 34,
   "metadata": {},
   "outputs": [
    {
     "name": "stdout",
     "output_type": "stream",
     "text": [
      "(1460, 230)\n"
     ]
    }
   ],
   "source": [
    "df = pd.get_dummies(df)\n",
    "print(df.shape)"
   ]
  },
  {
   "cell_type": "code",
   "execution_count": 35,
   "metadata": {},
   "outputs": [],
   "source": [
    "X = df.drop(\"SalePrice\", axis=1)"
   ]
  },
  {
   "cell_type": "code",
   "execution_count": 36,
   "metadata": {},
   "outputs": [],
   "source": [
    "from sklearn.preprocessing import StandardScaler\n",
    "import numpy as np\n",
    "\n",
    "#Standardized the dataset\n",
    "sc_X= StandardScaler()\n",
    "X_std = sc_X.fit_transform(X)"
   ]
  },
  {
   "cell_type": "markdown",
   "metadata": {},
   "source": [
    "### PRINCIPAL COMPONENT ANALYSIS"
   ]
  },
  {
   "cell_type": "code",
   "execution_count": 38,
   "metadata": {},
   "outputs": [],
   "source": [
    "#1. Computing the mean vector\n",
    "import numpy as np\n",
    "mean_vec = np.mean(X_std, axis = 0)"
   ]
  },
  {
   "cell_type": "code",
   "execution_count": 39,
   "metadata": {},
   "outputs": [],
   "source": [
    "#2. Computing the Covariance Matrix\n",
    "cov_mat = (X_std - mean_vec).T.dot((X_std - mean_vec))/ (X_std.shape[0]-1)"
   ]
  },
  {
   "cell_type": "code",
   "execution_count": 40,
   "metadata": {},
   "outputs": [
    {
     "name": "stdout",
     "output_type": "stream",
     "text": [
      "[[ 1.0006854   0.01992535 -0.00338295 ... -0.02160409  0.00267991\n",
      "   0.00667633]\n",
      " [ 0.01992535  1.0006854   0.23801249 ...  0.04081362  0.01486244\n",
      "  -0.0779224 ]\n",
      " [-0.00338295  0.23801249  1.0006854  ...  0.0048497  -0.0018367\n",
      "  -0.03100398]\n",
      " ...\n",
      " [-0.02160409  0.04081362  0.0048497  ...  1.0006854  -0.03026477\n",
      "  -0.71150659]\n",
      " [ 0.00267991  0.01486244 -0.0018367  ... -0.03026477  1.0006854\n",
      "  -0.1785926 ]\n",
      " [ 0.00667633 -0.0779224  -0.03100398 ... -0.71150659 -0.1785926\n",
      "   1.0006854 ]]\n"
     ]
    }
   ],
   "source": [
    "print(cov_mat)"
   ]
  },
  {
   "cell_type": "code",
   "execution_count": 41,
   "metadata": {},
   "outputs": [],
   "source": [
    "#3. Computing eigenvectors and corresponding eigenvalues\n",
    "eig_vals, eig_vecs = np.linalg.eig(cov_mat)"
   ]
  },
  {
   "cell_type": "code",
   "execution_count": 42,
   "metadata": {},
   "outputs": [
    {
     "name": "stdout",
     "output_type": "stream",
     "text": [
      "[[-9.17856379e-04+0.00000000e+00j -1.24882294e-03+0.00000000e+00j\n",
      "  -3.11131613e-03+0.00000000e+00j ...  3.63380685e-17-4.05705827e-17j\n",
      "   3.63380685e-17+4.05705827e-17j  2.05074310e-16+0.00000000e+00j]\n",
      " [-2.29183987e-02+0.00000000e+00j  3.18703150e-02+0.00000000e+00j\n",
      "  -2.52766602e-01+0.00000000e+00j ...  6.43360319e-16-1.12507412e-16j\n",
      "   6.43360319e-16+1.12507412e-16j  1.95520065e-15+0.00000000e+00j]\n",
      " [ 8.10062083e-02+0.00000000e+00j -8.40341039e-02+0.00000000e+00j\n",
      "  -1.85091166e-01+0.00000000e+00j ... -3.42548666e-16+3.47623476e-17j\n",
      "  -3.42548666e-16-3.47623476e-17j -8.62777930e-16+0.00000000e+00j]\n",
      " ...\n",
      " [-5.86509052e-02+0.00000000e+00j -7.04276675e-02+0.00000000e+00j\n",
      "  -2.23056750e-02+0.00000000e+00j ...  1.11127384e-02+2.16115347e-03j\n",
      "   1.11127384e-02-2.16115347e-03j -4.89645533e-02+0.00000000e+00j]\n",
      " [-1.60999385e-02+0.00000000e+00j -2.31280269e-02+0.00000000e+00j\n",
      "   5.46989922e-03+0.00000000e+00j ... -3.39025965e-03-1.70736942e-04j\n",
      "  -3.39025965e-03+1.70736942e-04j -1.38647574e-02+0.00000000e+00j]\n",
      " [ 7.34946704e-02+0.00000000e+00j  1.11710198e-01+0.00000000e+00j\n",
      "   4.85313410e-02+0.00000000e+00j ... -4.50550388e-02-4.30707433e-03j\n",
      "  -4.50550388e-02+4.30707433e-03j -6.41100179e-02+0.00000000e+00j]]\n"
     ]
    }
   ],
   "source": [
    "print(eig_vecs)"
   ]
  },
  {
   "cell_type": "code",
   "execution_count": 43,
   "metadata": {},
   "outputs": [
    {
     "name": "stdout",
     "output_type": "stream",
     "text": [
      "[ 1.48104586e+01+0.00000000e+00j  7.24266808e+00+0.00000000e+00j\n",
      "  6.23687284e+00+0.00000000e+00j  5.23636512e+00+0.00000000e+00j\n",
      "  4.00179519e+00+0.00000000e+00j  3.95022252e+00+0.00000000e+00j\n",
      "  3.75805049e+00+0.00000000e+00j  3.41623854e+00+0.00000000e+00j\n",
      "  3.35409530e+00+0.00000000e+00j  3.17338064e+00+0.00000000e+00j\n",
      "  2.98522832e+00+0.00000000e+00j  2.82183989e+00+0.00000000e+00j\n",
      "  2.73619455e+00+0.00000000e+00j  2.64838958e+00+0.00000000e+00j\n",
      "  2.57700063e+00+0.00000000e+00j  2.47416361e+00+0.00000000e+00j\n",
      "  2.39208730e+00+0.00000000e+00j  2.38091795e+00+0.00000000e+00j\n",
      "  2.34191651e+00+0.00000000e+00j  2.23653347e+00+0.00000000e+00j\n",
      "  2.19686069e+00+0.00000000e+00j  2.17359399e+00+0.00000000e+00j\n",
      "  2.13010426e+00+0.00000000e+00j  2.11705845e+00+0.00000000e+00j\n",
      "  2.08764623e+00+0.00000000e+00j  2.04849947e+00+0.00000000e+00j\n",
      "  2.00782724e+00+0.00000000e+00j  1.99904615e+00+0.00000000e+00j\n",
      "  1.92347836e+00+0.00000000e+00j  1.90333427e+00+0.00000000e+00j\n",
      "  1.88226422e+00+0.00000000e+00j  1.87621277e+00+0.00000000e+00j\n",
      "  1.81740024e+00+0.00000000e+00j  1.79650424e+00+0.00000000e+00j\n",
      "  1.77583476e+00+0.00000000e+00j  1.73102887e+00+0.00000000e+00j\n",
      "  1.68288487e+00+0.00000000e+00j  1.66447834e+00+0.00000000e+00j\n",
      "  1.60908080e+00+0.00000000e+00j  1.59579763e+00+0.00000000e+00j\n",
      "  1.54828266e+00+0.00000000e+00j  1.53269685e+00+0.00000000e+00j\n",
      "  1.51275725e+00+0.00000000e+00j  1.50357424e+00+0.00000000e+00j\n",
      "  1.48152311e+00+0.00000000e+00j  1.46248484e+00+0.00000000e+00j\n",
      "  1.44287973e+00+0.00000000e+00j  1.43017775e+00+0.00000000e+00j\n",
      "  1.40949600e+00+0.00000000e+00j  1.40516567e+00+0.00000000e+00j\n",
      "  1.38197213e+00+0.00000000e+00j  1.36390454e+00+0.00000000e+00j\n",
      "  1.34142199e+00+0.00000000e+00j  1.33051514e+00+0.00000000e+00j\n",
      "  1.32703959e+00+0.00000000e+00j  1.30392712e+00+0.00000000e+00j\n",
      "  1.29889575e+00+0.00000000e+00j  1.20495104e+00+0.00000000e+00j\n",
      "  1.21860882e+00+0.00000000e+00j  1.23812083e+00+0.00000000e+00j\n",
      "  1.25182119e+00+0.00000000e+00j  1.27404123e+00+0.00000000e+00j\n",
      "  1.27494597e+00+0.00000000e+00j  1.22420342e+00+0.00000000e+00j\n",
      "  1.17149988e+00+0.00000000e+00j  1.16557852e+00+0.00000000e+00j\n",
      "  1.15572693e+00+0.00000000e+00j  1.14580638e+00+0.00000000e+00j\n",
      "  1.14024902e+00+0.00000000e+00j  1.12764960e+00+0.00000000e+00j\n",
      "  1.10849650e+00+0.00000000e+00j  1.10051271e+00+0.00000000e+00j\n",
      "  1.09107539e+00+0.00000000e+00j  1.08196973e+00+0.00000000e+00j\n",
      "  1.07667319e+00+0.00000000e+00j  1.06823350e+00+0.00000000e+00j\n",
      "  1.05818367e+00+0.00000000e+00j  1.04715823e+00+0.00000000e+00j\n",
      "  1.04221220e+00+0.00000000e+00j  1.03436928e+00+0.00000000e+00j\n",
      "  1.02939616e+00+0.00000000e+00j  1.01490451e+00+0.00000000e+00j\n",
      "  9.78503917e-01+0.00000000e+00j  9.85198397e-01+0.00000000e+00j\n",
      "  9.91162801e-01+0.00000000e+00j  1.00249459e+00+0.00000000e+00j\n",
      "  9.74571049e-01+0.00000000e+00j  9.59331194e-01+0.00000000e+00j\n",
      "  9.51565860e-01+0.00000000e+00j  9.37033567e-01+0.00000000e+00j\n",
      "  9.31623566e-01+0.00000000e+00j  9.22818507e-01+0.00000000e+00j\n",
      "  9.12158446e-01+0.00000000e+00j  8.95748093e-01+0.00000000e+00j\n",
      "  8.87969407e-01+0.00000000e+00j  8.82111336e-01+0.00000000e+00j\n",
      "  8.78069295e-01+0.00000000e+00j  8.59092004e-01+0.00000000e+00j\n",
      "  8.63740721e-01+0.00000000e+00j  8.45188264e-01+0.00000000e+00j\n",
      "  1.08194751e-01+0.00000000e+00j  1.01947381e-01+0.00000000e+00j\n",
      "  6.02307848e-02+0.00000000e+00j  1.24224050e-01+0.00000000e+00j\n",
      "  1.29458350e-01+0.00000000e+00j  8.94417111e-02+0.00000000e+00j\n",
      "  1.51740019e-01+0.00000000e+00j  1.46054574e-01+0.00000000e+00j\n",
      "  1.61928266e-01+0.00000000e+00j  1.64655831e-01+0.00000000e+00j\n",
      "  1.71568563e-01+0.00000000e+00j  1.86365882e-01+0.00000000e+00j\n",
      "  1.97402859e-01+0.00000000e+00j  8.23989156e-02+0.00000000e+00j\n",
      "  8.39524720e-01+0.00000000e+00j  8.37811829e-01+0.00000000e+00j\n",
      "  8.20820886e-01+0.00000000e+00j  8.07937723e-01+0.00000000e+00j\n",
      "  8.03694187e-01+0.00000000e+00j  5.30561245e-02+0.00000000e+00j\n",
      "  2.04681118e-01+0.00000000e+00j  7.28027205e-02+0.00000000e+00j\n",
      "  7.45054360e-02+0.00000000e+00j  7.57351401e-02+0.00000000e+00j\n",
      "  2.10716934e-01+0.00000000e+00j  2.27126411e-01+0.00000000e+00j\n",
      "  2.37238595e-01+0.00000000e+00j  2.31200609e-01+0.00000000e+00j\n",
      "  7.98579934e-01+0.00000000e+00j  3.60113759e-02+0.00000000e+00j\n",
      "  2.47678767e-01+0.00000000e+00j  7.77993765e-01+0.00000000e+00j\n",
      "  7.71381322e-01+0.00000000e+00j  7.65451950e-01+0.00000000e+00j\n",
      "  7.57420244e-01+0.00000000e+00j  2.98659329e-02+0.00000000e+00j\n",
      "  2.55928539e-01+0.00000000e+00j  2.64735706e-01+0.00000000e+00j\n",
      "  2.76733767e-01+0.00000000e+00j  2.72638629e-01+0.00000000e+00j\n",
      "  2.93443670e-01+0.00000000e+00j  2.98883434e-01+0.00000000e+00j\n",
      "  7.39430870e-01+0.00000000e+00j  3.28776658e-01+0.00000000e+00j\n",
      "  3.12460839e-01+0.00000000e+00j  7.02068092e-01+0.00000000e+00j\n",
      "  7.13885844e-01+0.00000000e+00j  7.51755709e-01+0.00000000e+00j\n",
      "  7.34570065e-01+0.00000000e+00j  7.25236170e-01+0.00000000e+00j\n",
      "  6.73269512e-01+0.00000000e+00j  3.68675343e-01+0.00000000e+00j\n",
      "  3.62940023e-01+0.00000000e+00j  3.42319672e-01+0.00000000e+00j\n",
      "  4.01187553e-01+0.00000000e+00j  3.84949115e-01+0.00000000e+00j\n",
      "  3.89001797e-01+0.00000000e+00j  3.46145531e-01+0.00000000e+00j\n",
      "  2.14094323e-02+0.00000000e+00j  6.80618430e-01+0.00000000e+00j\n",
      "  3.15741148e-01+0.00000000e+00j  6.54379393e-01+0.00000000e+00j\n",
      "  6.44803764e-01+0.00000000e+00j  6.22028218e-01+0.00000000e+00j\n",
      "  6.04884208e-01+0.00000000e+00j  5.95983540e-01+0.00000000e+00j\n",
      "  4.33001312e-01+0.00000000e+00j  4.11718632e-01+0.00000000e+00j\n",
      "  4.68635396e-01+0.00000000e+00j  4.59075650e-01+0.00000000e+00j\n",
      "  4.82082136e-01+0.00000000e+00j  4.94584074e-01+0.00000000e+00j\n",
      "  3.49268235e-01+0.00000000e+00j  4.50673677e-01+0.00000000e+00j\n",
      "  4.43466020e-01+0.00000000e+00j  6.82836884e-01+0.00000000e+00j\n",
      "  5.72754021e-01+0.00000000e+00j  4.46713798e-01+0.00000000e+00j\n",
      "  7.29098344e-01+0.00000000e+00j  5.79615421e-01+0.00000000e+00j\n",
      "  5.48482025e-01+0.00000000e+00j  5.04634147e-01+0.00000000e+00j\n",
      "  6.11682620e-01+0.00000000e+00j  1.89998927e-02+0.00000000e+00j\n",
      "  1.58854894e-02+0.00000000e+00j  1.51427443e-02+0.00000000e+00j\n",
      "  6.39883252e-01+0.00000000e+00j  4.10418877e-01+0.00000000e+00j\n",
      "  5.35732983e-01+0.00000000e+00j  5.25032038e-01+0.00000000e+00j\n",
      "  5.12651732e-01+0.00000000e+00j  5.18645608e-01+0.00000000e+00j\n",
      "  5.56442923e-01+0.00000000e+00j  5.60267739e-01+0.00000000e+00j\n",
      "  3.16080075e-01+0.00000000e+00j  6.51796361e-01+0.00000000e+00j\n",
      "  6.15488071e-01+0.00000000e+00j  5.07609279e-01+0.00000000e+00j\n",
      "  5.77721037e-01+0.00000000e+00j  2.65785469e-04+0.00000000e+00j\n",
      "  3.89772409e-15+0.00000000e+00j -2.93539269e-15+0.00000000e+00j\n",
      "  3.39801038e-15+0.00000000e+00j -2.29571244e-15+0.00000000e+00j\n",
      "  2.97775477e-15+0.00000000e+00j  2.82491352e-15+0.00000000e+00j\n",
      " -1.91471578e-15+0.00000000e+00j -1.71020215e-15+0.00000000e+00j\n",
      " -1.31699247e-15+7.28768786e-17j -1.31699247e-15-7.28768786e-17j\n",
      "  1.88088181e-15+0.00000000e+00j  1.78679383e-15+0.00000000e+00j\n",
      "  1.61804622e-15+0.00000000e+00j  1.37628725e-15+0.00000000e+00j\n",
      "  1.12347225e-15+0.00000000e+00j -9.34435824e-16+0.00000000e+00j\n",
      " -7.98666306e-16+0.00000000e+00j -6.27455518e-16+0.00000000e+00j\n",
      " -5.34760285e-16+0.00000000e+00j  7.44073523e-16+0.00000000e+00j\n",
      "  8.15579509e-16+0.00000000e+00j  4.31036247e-16+0.00000000e+00j\n",
      "  3.69657817e-16+0.00000000e+00j -1.13893337e-16+0.00000000e+00j\n",
      "  6.81451456e-17+1.32001478e-17j  6.81451456e-17-1.32001478e-17j\n",
      " -2.27798835e-17+4.12402772e-17j -2.27798835e-17-4.12402772e-17j\n",
      " -2.40696363e-17+0.00000000e+00j]\n"
     ]
    }
   ],
   "source": [
    "print(eig_vals)"
   ]
  },
  {
   "cell_type": "code",
   "execution_count": 44,
   "metadata": {},
   "outputs": [
    {
     "name": "stdout",
     "output_type": "stream",
     "text": [
      "Eigenvalues in descending order:\n",
      "14.810458551570681\n",
      "7.24266808448427\n",
      "6.236872843651732\n",
      "5.236365122826524\n",
      "4.001795194279794\n",
      "3.9502225162730675\n",
      "3.758050488149182\n",
      "3.4162385355466713\n",
      "3.354095301551684\n",
      "3.173380641707133\n",
      "2.985228315329123\n",
      "2.8218398861169343\n",
      "2.7361945548772044\n",
      "2.6483895770329493\n",
      "2.5770006316445553\n",
      "2.4741636080382\n",
      "2.3920873023182296\n",
      "2.3809179476275215\n",
      "2.3419165077805837\n",
      "2.2365334670287402\n",
      "2.1968606899090037\n",
      "2.173593987823789\n",
      "2.1301042602891425\n",
      "2.1170584542475503\n",
      "2.087646228478544\n",
      "2.048499472720004\n",
      "2.0078272368817363\n",
      "1.9990461509071178\n",
      "1.923478355790843\n",
      "1.903334272078957\n",
      "1.88226422162846\n",
      "1.8762127658381194\n",
      "1.8174002445872568\n",
      "1.7965042371619802\n",
      "1.7758347615759635\n",
      "1.7310288667688765\n",
      "1.682884870326368\n",
      "1.664478338509953\n",
      "1.609080799735277\n",
      "1.5957976256545015\n",
      "1.548282657570329\n",
      "1.5326968463001986\n",
      "1.5127572535731562\n",
      "1.5035742375149443\n",
      "1.4815231126370876\n",
      "1.4624848445414813\n",
      "1.4428797317069435\n",
      "1.4301777489241734\n",
      "1.4094960010329634\n",
      "1.4051656718101213\n",
      "1.3819721314865872\n",
      "1.3639045429624113\n",
      "1.3414219947004933\n",
      "1.3305151360504324\n",
      "1.3270395904679781\n",
      "1.3039271192834778\n",
      "1.298895746527575\n",
      "1.2749459706174482\n",
      "1.27404123278808\n",
      "1.2518211880866723\n",
      "1.238120827705173\n",
      "1.2242034245303903\n",
      "1.2186088158222983\n",
      "1.2049510416168756\n",
      "1.1714998787595459\n",
      "1.165578523100161\n",
      "1.1557269307658582\n",
      "1.1458063776314964\n",
      "1.140249017211605\n",
      "1.1276495976381018\n",
      "1.1084965031045897\n",
      "1.1005127149155212\n",
      "1.0910753940885207\n",
      "1.0819697285480272\n",
      "1.076673192188232\n",
      "1.06823349746236\n",
      "1.0581836702160794\n",
      "1.0471582290484855\n",
      "1.0422122046306346\n",
      "1.0343692758965495\n",
      "1.029396162806413\n",
      "1.0149045132475387\n",
      "1.0024945876527231\n",
      "0.9911628011367185\n",
      "0.9851983974934563\n",
      "0.9785039172645188\n",
      "0.9745710488463802\n",
      "0.9593311943170452\n",
      "0.9515658601232505\n",
      "0.9370335674119014\n",
      "0.9316235658228348\n",
      "0.9228185065943376\n",
      "0.9121584456804628\n",
      "0.895748093464408\n",
      "0.8879694066775048\n",
      "0.8821113361872713\n",
      "0.8780692945144984\n",
      "0.8637407211544191\n",
      "0.8590920039387968\n",
      "0.8451882644880564\n",
      "0.8395247199936238\n",
      "0.8378118286371233\n",
      "0.8208208862792717\n",
      "0.8079377232190297\n",
      "0.8036941868110127\n",
      "0.798579934027318\n",
      "0.7779937645702055\n",
      "0.7713813221656053\n",
      "0.7654519502759962\n",
      "0.7574202444022192\n",
      "0.7517557093610691\n",
      "0.7394308695344957\n",
      "0.734570065276944\n",
      "0.7290983439613649\n",
      "0.7252361696592757\n",
      "0.7138858435252162\n",
      "0.702068091762554\n",
      "0.6828368841739103\n",
      "0.680618430294215\n",
      "0.6732695122418234\n",
      "0.6543793925062864\n",
      "0.6517963614050827\n",
      "0.644803763912416\n",
      "0.6398832518830778\n",
      "0.6220282177757197\n",
      "0.6154880712265328\n",
      "0.6116826198611792\n",
      "0.604884208211389\n",
      "0.595983540312678\n",
      "0.5796154209941963\n",
      "0.5777210368662556\n",
      "0.5727540210905621\n",
      "0.5602677385877415\n",
      "0.5564429225395394\n",
      "0.5484820252343834\n",
      "0.5357329827611147\n",
      "0.5250320379254357\n",
      "0.5186456078188725\n",
      "0.5126517320496888\n",
      "0.5076092789348308\n",
      "0.5046341471851307\n",
      "0.4945840740259493\n",
      "0.48208213642056463\n",
      "0.468635396204695\n",
      "0.45907565002103823\n",
      "0.45067367736081493\n",
      "0.4467137975738742\n",
      "0.44346601981663614\n",
      "0.43300131190673957\n",
      "0.41171863222982047\n",
      "0.41041887720368064\n",
      "0.40118755254442634\n",
      "0.3890017965032119\n",
      "0.384949115397632\n",
      "0.36867534263371865\n",
      "0.36294002292041716\n",
      "0.34926823506432436\n",
      "0.3461455314283543\n",
      "0.34231967159118487\n",
      "0.32877665765425984\n",
      "0.3160800750148995\n",
      "0.3157411479816132\n",
      "0.31246083923980067\n",
      "0.2988834341540864\n",
      "0.2934436698540463\n",
      "0.27673376708209463\n",
      "0.2726386285211104\n",
      "0.26473570607366426\n",
      "0.2559285394163618\n",
      "0.2476787671695612\n",
      "0.23723859474743192\n",
      "0.23120060884338528\n",
      "0.22712641095984035\n",
      "0.21071693381397183\n",
      "0.2046811178977361\n",
      "0.19740285903992968\n",
      "0.18636588240934981\n",
      "0.17156856273669427\n",
      "0.1646558310219913\n",
      "0.161928265804158\n",
      "0.15174001877579696\n",
      "0.14605457362603907\n",
      "0.1294583496261676\n",
      "0.12422404968362427\n",
      "0.10819475066611828\n",
      "0.10194738123145743\n",
      "0.08944171113250071\n",
      "0.08239891555908993\n",
      "0.07573514011135161\n",
      "0.07450543599572383\n",
      "0.07280272051651657\n",
      "0.060230784803573655\n",
      "0.053056124502697935\n",
      "0.03601137589814354\n",
      "0.029865932889032727\n",
      "0.021409432287920156\n",
      "0.0189998927098175\n",
      "0.015885489384269216\n",
      "0.015142744299473144\n",
      "0.0002657854693581446\n",
      "3.897724089116655e-15\n",
      "3.3980103797376226e-15\n",
      "2.9777547675176573e-15\n",
      "2.9353926904970037e-15\n",
      "2.824913516763019e-15\n",
      "2.2957124394983412e-15\n",
      "1.914715783544094e-15\n",
      "1.880881808345824e-15\n",
      "1.7867938347405784e-15\n",
      "1.710202152985054e-15\n",
      "1.618046224207672e-15\n",
      "1.3762872473897632e-15\n",
      "1.3190072834602218e-15\n",
      "1.3190072834602218e-15\n",
      "1.1234722460278072e-15\n",
      "9.344358237955968e-16\n",
      "8.155795092146741e-16\n",
      "7.986663063446654e-16\n",
      "7.440735226659002e-16\n",
      "6.274555179763183e-16\n",
      "5.347602851975716e-16\n",
      "4.3103624681409874e-16\n",
      "3.696578165604897e-16\n",
      "1.1389333705767864e-16\n",
      "6.941184889180261e-17\n",
      "6.941184889180261e-17\n",
      "4.711351779006067e-17\n",
      "4.711351779006067e-17\n",
      "2.4069636272909463e-17\n"
     ]
    }
   ],
   "source": [
    "#4.Sorting the eigenvectors by decreasing eigenvalues\n",
    "# Make a list of (eigenvalue, eigenvectors) tuples\n",
    "eig_pairs = [[np.abs(eig_vals[i]), eig_vecs[:,i]] for i in range(len(eig_vals))]\n",
    "\n",
    "# Sort the (eigenvalue, eigenvector) tuples from high to low\n",
    "eig_pairs.sort(key=lambda x: x[0], reverse=True)\n",
    "\n",
    "# Visually confirm that the list is correctly sorted by decreasing eigenvalues\n",
    "print(\"Eigenvalues in descending order:\")\n",
    "for i in eig_pairs:\n",
    "    print(i[0])"
   ]
  },
  {
   "cell_type": "code",
   "execution_count": 45,
   "metadata": {},
   "outputs": [
    {
     "name": "stdout",
     "output_type": "stream",
     "text": [
      "Number of components:141\n"
     ]
    }
   ],
   "source": [
    "#5. Select components based on eigen values\n",
    "pairs = np.array(eig_pairs)\n",
    "count = 0\n",
    "components = []\n",
    "\n",
    "for i in range(len(eig_pairs)):\n",
    "    if eig_pairs[i][0]>0.5:\n",
    "        count += 1\n",
    "        components.append(pairs[i])\n",
    "        \n",
    "print(\"Number of components:\" + str(count))   "
   ]
  },
  {
   "cell_type": "code",
   "execution_count": 46,
   "metadata": {},
   "outputs": [],
   "source": [
    "#Calculate Explained Variance\n",
    "total = 0\n",
    "ein = []\n",
    "for i in range(len(components)):\n",
    "    total += components[i][0]\n",
    "    ein.append(components[i][0])\n",
    "    \n",
    "#divide eigen value by total eigen value and then multiple with 100 for the selected components     \n",
    "var_exp = [(i/ sum(eig_vals))*100 for i in sorted(ein, reverse=True)]\n",
    "cum_var_exp = np.cumsum(var_exp)"
   ]
  },
  {
   "cell_type": "code",
   "execution_count": 47,
   "metadata": {},
   "outputs": [
    {
     "data": {
      "text/plain": [
       "array([ 6.46301939+0.j,  9.62359029+0.j, 12.34525012+0.j, 14.63030626+0.j,\n",
       "       16.37661816+0.j, 18.10042466+0.j, 19.74037072+0.j, 21.23115615+0.j,\n",
       "       22.69482339+0.j, 24.07962998+0.j, 25.38233026+0.j, 26.61373075+0.j,\n",
       "       27.80775715+0.j, 28.96346702+0.j, 30.08802403+0.j, 31.16770481+0.j,\n",
       "       32.21156895+0.j, 33.25055899+0.j, 34.27252949+0.j, 35.24851272+0.j,\n",
       "       36.20718346+0.j, 37.15570103+0.j, 38.08524045+0.j, 39.00908692+0.j,\n",
       "       39.92009842+0.j, 40.81402697+0.j, 41.69020689+0.j, 42.5625549 +0.j,\n",
       "       43.40192648+0.j, 44.23250753+0.j, 45.053894  +0.j, 45.87263971+0.j,\n",
       "       46.66572069+0.j, 47.44968303+0.j, 48.22462558+0.j, 48.98001564+0.j,\n",
       "       49.71439651+0.j, 50.44074511+0.j, 51.14291921+0.j, 51.83929677+0.j,\n",
       "       52.51493965+0.j, 53.18378116+0.j, 53.84392138+0.j, 54.50005431+0.j,\n",
       "       55.14656451+0.j, 55.78476676+0.j, 56.41441368+0.j, 57.03851769+0.j,\n",
       "       57.65359655+0.j, 58.26678573+0.j, 58.86985367+0.j, 59.46503723+0.j,\n",
       "       60.05040982+0.j, 60.63102284+0.j, 61.2101192 +0.j, 61.77912969+0.j,\n",
       "       62.34594457+0.j, 62.90230821+0.j, 63.45827703+0.j, 64.00454942+0.j,\n",
       "       64.54484322+0.j, 65.07906371+0.j, 65.61084282+0.j, 66.13666192+0.j,\n",
       "       66.64788352+0.j, 67.15652116+0.j, 67.66085973+0.j, 68.16086915+0.j,\n",
       "       68.65845345+0.j, 69.15053957+0.j, 69.63426763+0.j, 70.11451171+0.j,\n",
       "       70.59063751+0.j, 71.06278976+0.j, 71.5326307 +0.j, 71.9987887 +0.j,\n",
       "       72.46056114+0.j, 72.91752228+0.j, 73.37232506+0.j, 73.82370532+0.j,\n",
       "       74.27291541+0.j, 74.71580159+0.j, 75.15327231+0.j, 75.58579804+0.j,\n",
       "       76.01572102+0.j, 76.44272264+0.j, 76.86800802+0.j, 77.28664301+0.j,\n",
       "       77.70188934+0.j, 78.11079404+0.j, 78.51733791+0.j, 78.92003942+0.j,\n",
       "       79.31808906+0.j, 79.70897751+0.j, 80.09647149+0.j, 80.48140911+0.j,\n",
       "       80.86458286+0.j, 81.24150387+0.j, 81.61639626+0.j, 81.98522132+0.j,\n",
       "       82.3515749 +0.j, 82.71718101+0.j, 83.07537257+0.j, 83.42794215+0.j,\n",
       "       83.77865993+0.j, 84.12714594+0.j, 84.46664851+0.j, 84.80326553+0.j,\n",
       "       85.13729508+0.j, 85.46781974+0.j, 85.79587249+0.j, 86.11854691+0.j,\n",
       "       86.43910015+0.j, 86.75726564+0.j, 87.07374574+0.j, 87.38527276+0.j,\n",
       "       87.69164273+0.j, 87.98962054+0.j, 88.28663026+0.j, 88.58043304+0.j,\n",
       "       88.86599251+0.j, 89.15042479+0.j, 89.43180563+0.j, 89.71103924+0.j,\n",
       "       89.98248124+0.j, 90.25106923+0.j, 90.51799659+0.j, 90.78195725+0.j,\n",
       "       91.04203382+0.j, 91.29496763+0.j, 91.54707476+0.j, 91.79701438+0.j,\n",
       "       92.0415052 +0.j, 92.28432695+0.j, 92.5236747 +0.j, 92.757459  +0.j,\n",
       "       92.9865736 +0.j, 93.21290127+0.j, 93.43661332+0.j, 93.65812494+0.j,\n",
       "       93.87833826+0.j])"
      ]
     },
     "execution_count": 47,
     "metadata": {},
     "output_type": "execute_result"
    }
   ],
   "source": [
    "cum_var_exp"
   ]
  },
  {
   "cell_type": "code",
   "execution_count": 48,
   "metadata": {},
   "outputs": [
    {
     "data": {
      "image/png": "[encoded data removed]",
      "text/plain": [
       "<Figure size 576x360 with 1 Axes>"
      ]
     },
     "metadata": {
      "needs_background": "light"
     },
     "output_type": "display_data"
    }
   ],
   "source": [
    "#Make a random array and then make it positive-definite\n",
    "num_vars = len(eig_vals)\n",
    "num_obs = 9\n",
    "\n",
    "fig = plt.figure(figsize=(8,5))\n",
    "sing_vals = np.arange(num_vars) + 1 \n",
    "plt.plot(sing_vals, eig_vals, \"ro-\", linewidth=1)\n",
    "\n",
    "plt.title(\"Scree Plot\")\n",
    "plt.xlabel(\"Principal Components\")\n",
    "plt.ylabel(\"Eigenvalue\")\n",
    "plt.xlim(0,230)\n",
    "plt.show()"
   ]
  },
  {
   "cell_type": "markdown",
   "metadata": {},
   "source": [
    "#### Scree Plot shows eigen value for each components. starting components has high value and in middle, some component has higher than others."
   ]
  },
  {
   "cell_type": "markdown",
   "metadata": {},
   "source": [
    "#### The following plot to shows percentage of variance explained by each of the selected components."
   ]
  },
  {
   "cell_type": "code",
   "execution_count": 49,
   "metadata": {},
   "outputs": [],
   "source": [
    "#Calculate Explained Variance\n",
    "total = sum(eig_vals)\n",
    "\n",
    "#Divide eigen value by total eigen value and then multiple with 100 for the selected components\n",
    "var_exp = [(i / total)*100 for i in sorted(eig_vals, reverse = True)]\n",
    "cum_var_exp = np.cumsum(var_exp)"
   ]
  },
  {
   "cell_type": "code",
   "execution_count": 50,
   "metadata": {},
   "outputs": [
    {
     "data": {
      "image/png": "[encoded data removed]",
      "text/plain": [
       "<Figure size 432x288 with 1 Axes>"
      ]
     },
     "metadata": {
      "needs_background": "light"
     },
     "output_type": "display_data"
    }
   ],
   "source": [
    "plt.figure()\n",
    "plt.scatter([150], [cum_var_exp[150]], color='g')\n",
    "plt.plot(cum_var_exp)\n",
    "plt.xlabel(\"Principal Components\")\n",
    "plt.ylabel(\"Variance (%)\") #for each components\n",
    "plt.title(\"Dataset Explained Variance\")\n",
    "plt.show()"
   ]
  },
  {
   "cell_type": "markdown",
   "metadata": {},
   "source": [
    "#### From the above plot, we can observe that the variance remains constant after the number of components reaches 150"
   ]
  },
  {
   "cell_type": "code",
   "execution_count": 51,
   "metadata": {},
   "outputs": [
    {
     "data": {
      "text/plain": [
       "(95.8422191021751+0j)"
      ]
     },
     "execution_count": 51,
     "metadata": {},
     "output_type": "execute_result"
    }
   ],
   "source": [
    "cum_var_exp[150]"
   ]
  },
  {
   "cell_type": "markdown",
   "metadata": {},
   "source": [
    "#### From the above result, We can see that the selected 150 components has 96% information. Here we lose 4% information. We have to select less component than original variable, at the same time, the selected component must contain as much as information."
   ]
  },
  {
   "cell_type": "code",
   "execution_count": 52,
   "metadata": {},
   "outputs": [],
   "source": [
    "#7. Deriving the new Data Set\n",
    "#Finally, We select only 150 components. Filter out eigen vector of the selected components.\n",
    "N = 229\n",
    "M = 150\n",
    "\n",
    "a = np.ndarray(shape = (N, 0))\n",
    "for i in range(M):\n",
    "    b = eig_pairs[i][1].reshape(N,1)\n",
    "    a = np.hstack((a,b))"
   ]
  },
  {
   "cell_type": "code",
   "execution_count": 53,
   "metadata": {},
   "outputs": [
    {
     "data": {
      "text/plain": [
       "array([[-0.00091786+0.j, -0.00124882+0.j, -0.00311132+0.j, ...,\n",
       "         0.04737578+0.j,  0.01984383+0.j, -0.03907232+0.j],\n",
       "       [-0.0229184 +0.j,  0.03187032+0.j, -0.2527666 +0.j, ...,\n",
       "        -0.10177794+0.j,  0.00084618+0.j, -0.0109117 +0.j],\n",
       "       [ 0.08100621+0.j, -0.0840341 +0.j, -0.18509117+0.j, ...,\n",
       "        -0.00117074+0.j,  0.03951735+0.j,  0.12363688+0.j],\n",
       "       ...,\n",
       "       [-0.05865091+0.j, -0.07042767+0.j, -0.02230567+0.j, ...,\n",
       "         0.01029324+0.j,  0.01732139+0.j,  0.04205054+0.j],\n",
       "       [-0.01609994+0.j, -0.02312803+0.j,  0.0054699 +0.j, ...,\n",
       "         0.01144344+0.j,  0.00333548+0.j,  0.02706349+0.j],\n",
       "       [ 0.07349467+0.j,  0.1117102 +0.j,  0.04853134+0.j, ...,\n",
       "        -0.00741008+0.j, -0.00965227+0.j, -0.0232443 +0.j]])"
      ]
     },
     "execution_count": 53,
     "metadata": {},
     "output_type": "execute_result"
    }
   ],
   "source": [
    "#matrix calculation of original dataset with eigen vector of the selected components.\n",
    "a"
   ]
  },
  {
   "cell_type": "code",
   "execution_count": 55,
   "metadata": {},
   "outputs": [],
   "source": [
    "# Projection onto the new feature space\n",
    "Y = X_std.dot(a)"
   ]
  },
  {
   "cell_type": "code",
   "execution_count": 56,
   "metadata": {},
   "outputs": [
    {
     "data": {
      "text/plain": [
       "array([[ 3.37881956+0.j,  0.83126798+0.j,  0.14126206+0.j, ...,\n",
       "        -0.05264885+0.j,  0.11488625+0.j,  0.0546108 +0.j],\n",
       "       [-0.49014982+0.j, -2.54440034+0.j,  0.55360824+0.j, ...,\n",
       "         1.50686946+0.j, -0.13730069+0.j, -0.49557642+0.j],\n",
       "       [ 3.70006074+0.j,  0.46216915+0.j, -0.10774618+0.j, ...,\n",
       "         0.26513806+0.j,  0.21907631+0.j,  0.12865672+0.j],\n",
       "       ...,\n",
       "       [-0.19576961+0.j,  1.05012274+0.j, -3.96173083+0.j, ...,\n",
       "         0.30930739+0.j, -0.54681933+0.j,  0.34200916+0.j],\n",
       "       [-3.03068159+0.j, -2.58873065+0.j,  1.93282496+0.j, ...,\n",
       "        -0.67055862+0.j, -0.09255241+0.j,  0.70546917+0.j],\n",
       "       [-0.99253283+0.j, -3.15321751+0.j,  1.10195506+0.j, ...,\n",
       "        -0.9994003 +0.j, -0.12780606+0.j, -0.40775836+0.j]])"
      ]
     },
     "execution_count": 56,
     "metadata": {},
     "output_type": "execute_result"
    }
   ],
   "source": [
    "Y"
   ]
  },
  {
   "cell_type": "code",
   "execution_count": 57,
   "metadata": {},
   "outputs": [
    {
     "data": {
      "text/plain": [
       "(1460, 150)"
      ]
     },
     "execution_count": 57,
     "metadata": {},
     "output_type": "execute_result"
    }
   ],
   "source": [
    "Y.shape"
   ]
  },
  {
   "cell_type": "markdown",
   "metadata": {},
   "source": [
    "### We reduced the number of columns from 221 to 150."
   ]
  },
  {
   "cell_type": "code",
   "execution_count": null,
   "metadata": {},
   "outputs": [],
   "source": []
  }
 ],
 "metadata": {
  "kernelspec": {
   "display_name": "Python 3",
   "language": "python",
   "name": "python3"
  },
  "language_info": {
   "codemirror_mode": {
    "name": "ipython",
    "version": 3
   },
   "file_extension": ".py",
   "mimetype": "text/x-python",
   "name": "python",
   "nbconvert_exporter": "python",
   "pygments_lexer": "ipython3",
   "version": "3.8.3"
  }
 },
 "nbformat": 4,
 "nbformat_minor": 4
}
